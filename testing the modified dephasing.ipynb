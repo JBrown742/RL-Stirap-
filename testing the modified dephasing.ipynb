{
 "cells": [
  {
   "cell_type": "code",
   "execution_count": 6,
   "metadata": {},
   "outputs": [
    {
     "name": "stdout",
     "output_type": "stream",
     "text": [
      "The autoreload extension is already loaded. To reload it, use:\n",
      "  %reload_ext autoreload\n"
     ]
    }
   ],
   "source": [
    "%load_ext autoreload\n",
    "%autoreload\n",
    "import numpy as np\n",
    "import matplotlib.pyplot as plt\n",
    "%matplotlib inline\n",
    "import qutip as qt"
   ]
  },
  {
   "cell_type": "code",
   "execution_count": 67,
   "metadata": {},
   "outputs": [
    {
     "name": "stderr",
     "output_type": "stream",
     "text": [
      "/Users/jbrown/opt/anaconda3/envs/stablebase/lib/python3.6/site-packages/ipykernel_launcher.py:28: ComplexWarning: Casting complex values to real discards the imaginary part\n"
     ]
    },
    {
     "data": {
      "text/plain": [
       "<matplotlib.legend.Legend at 0x1833c02ef0>"
      ]
     },
     "execution_count": 67,
     "metadata": {},
     "output_type": "execute_result"
    },
    {
     "data": {
      "image/png": "[encoded data removed]",
      "text/plain": [
       "<Figure size 432x288 with 1 Axes>"
      ]
     },
     "metadata": {
      "needs_background": "light"
     },
     "output_type": "display_data"
    }
   ],
   "source": [
    "# Define the number of timesteps in the evolution\n",
    "steps=200\n",
    "# Define the number of randomly sampled unitaries to use at each timestep\n",
    "num_runs=100\n",
    "# generate the initial state\n",
    "rho=np.zeros(9)\n",
    "rho[0]=1\n",
    "rho_in = rho\n",
    "# Diagonal Initial State\n",
    "rho_in_diag = np.array([rho_in[0],rho_in[4],rho_in[8]])\n",
    "\n",
    "# Function that carries out one step of the evolution by randomly sampling the Hamiltonians for use \n",
    "# in the QuTiP solver\n",
    "def get_1_step(rho, timestep):\n",
    "    global omega12, omega23\n",
    "    tlist = [0,timestep]\n",
    "    rho_out = np.zeros((num_runs,3,3))\n",
    "    average_rho_out = np.zeros((3,3))\n",
    "    for i in range(num_runs):\n",
    "        delta1 = np.random.uniform(0,omega12*0.15)\n",
    "        delta2 = np.random.uniform(0,omega12*0.15)\n",
    "        H=qt.Qobj(np.array([[0,-omega12,0],\n",
    "                        [-omega12, delta1, -omega23],\n",
    "                        [0, -omega23, delta2]]))\n",
    "        \n",
    "        output = qt.mesolve(H, qt.Qobj(rho.reshape(3,3)), tlist)\n",
    "        \n",
    "        rho_out[i]=output.states[-1].full()\n",
    "    \n",
    "    average_rho_out = np.average(rho_out, axis=0)\n",
    "    rho_final = average_rho_out.flatten()\n",
    "    rho_diag = average_rho_out.diagonal().flatten()\n",
    "    return rho_final, rho_diag\n",
    "# for plotting\n",
    "full_obs_vec = np.zeros((steps,9))\n",
    "diag_obs_vec = np.zeros((steps,3))\n",
    "\n",
    "for step in range(steps):\n",
    "    omega12=10\n",
    "    omega23=10\n",
    "    full_obs_vec[step,:] = rho_in\n",
    "    diag_obs_vec[step,:] = rho_in_diag\n",
    "    rho, rho_in_diag = get_1_step(rho_in, 0.0025)\n",
    "    rho_in = rho\n",
    "    \n",
    "plt.plot(range(steps),full_obs_vec[:,0], label=0)\n",
    "plt.plot(range(steps),full_obs_vec[:,4], label = 1)\n",
    "plt.plot(range(steps),full_obs_vec[:,8], label=2)\n",
    "plt.legend()\n",
    "\n"
   ]
  }
 ],
 "metadata": {
  "kernelspec": {
   "display_name": "Python 3",
   "language": "python",
   "name": "python3"
  },
  "language_info": {
   "codemirror_mode": {
    "name": "ipython",
    "version": 3
   },
   "file_extension": ".py",
   "mimetype": "text/x-python",
   "name": "python",
   "nbconvert_exporter": "python",
   "pygments_lexer": "ipython3",
   "version": "3.6.10"
  }
 },
 "nbformat": 4,
 "nbformat_minor": 4
}
