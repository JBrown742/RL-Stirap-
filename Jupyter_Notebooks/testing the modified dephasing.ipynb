{
 "cells": [
  {
   "cell_type": "code",
   "execution_count": 55,
   "metadata": {},
   "outputs": [
    {
     "name": "stdout",
     "output_type": "stream",
     "text": [
      "The autoreload extension is already loaded. To reload it, use:\n",
      "  %reload_ext autoreload\n"
     ]
    }
   ],
   "source": [
    "%load_ext autoreload\n",
    "%autoreload\n",
    "\n",
    "import time\n",
    "import sys\n",
    "import os\n",
    "py_script = \"/Users/jbrown/OneDrive - Queen's University Belfast/python_scripts\"\n",
    "if py_script is not sys.path:\n",
    "    sys.path.append(py_script)\n",
    "\n",
    "from SB_StirapEnvironments import  StepEnv, ContinuousEnv, DiscreteEnv\n",
    "import numpy as np\n",
    "import tensorflow as tf\n",
    "import stable_baselines\n",
    "from stable_baselines.common.policies import MlpPolicy, FeedForwardPolicy, MlpLnLstmPolicy\n",
    "from stable_baselines.deepq import LnMlpPolicy as DQNmlp\n",
    "from stable_baselines import PPO1, DQN, PPO2, TD3, A2C\n",
    "from stable_baselines.common.callbacks import EvalCallback\n",
    "from stable_baselines.bench import Monitor\n",
    "import matplotlib.pyplot as plt\n",
    "%matplotlib inline\n",
    "\n",
    "from Miscellany import CtapPlot, PlottingCallback\n",
    "from stable_baselines.common.env_checker import check_env\n",
    "from stable_baselines.common.vec_env import DummyVecEnv, SubprocVecEnv\n",
    "from stable_baselines.common import set_global_seeds\n",
    "\n",
    "from stable_baselines.common.cmd_util import make_vec_env\n",
    "from stable_baselines.common.evaluation import evaluate_policy\n",
    "\n",
    "from collections import deque"
   ]
  },
  {
   "cell_type": "code",
   "execution_count": 2,
   "metadata": {},
   "outputs": [
    {
     "ename": "NameError",
     "evalue": "name 'qt' is not defined",
     "output_type": "error",
     "traceback": [
      "\u001b[0;31m---------------------------------------------------------------------------\u001b[0m",
      "\u001b[0;31mNameError\u001b[0m                                 Traceback (most recent call last)",
      "\u001b[0;32m<ipython-input-2-80ac67c35cc9>\u001b[0m in \u001b[0;36m<module>\u001b[0;34m\u001b[0m\n\u001b[1;32m     41\u001b[0m     \u001b[0mfull_obs_vec\u001b[0m\u001b[0;34m[\u001b[0m\u001b[0mstep\u001b[0m\u001b[0;34m,\u001b[0m\u001b[0;34m:\u001b[0m\u001b[0;34m]\u001b[0m \u001b[0;34m=\u001b[0m \u001b[0mrho_in\u001b[0m\u001b[0;34m\u001b[0m\u001b[0;34m\u001b[0m\u001b[0m\n\u001b[1;32m     42\u001b[0m     \u001b[0mdiag_obs_vec\u001b[0m\u001b[0;34m[\u001b[0m\u001b[0mstep\u001b[0m\u001b[0;34m,\u001b[0m\u001b[0;34m:\u001b[0m\u001b[0;34m]\u001b[0m \u001b[0;34m=\u001b[0m \u001b[0mrho_in_diag\u001b[0m\u001b[0;34m\u001b[0m\u001b[0;34m\u001b[0m\u001b[0m\n\u001b[0;32m---> 43\u001b[0;31m     \u001b[0mrho\u001b[0m\u001b[0;34m,\u001b[0m \u001b[0mrho_in_diag\u001b[0m \u001b[0;34m=\u001b[0m \u001b[0mget_1_step\u001b[0m\u001b[0;34m(\u001b[0m\u001b[0mrho_in\u001b[0m\u001b[0;34m,\u001b[0m \u001b[0;36m0.0025\u001b[0m\u001b[0;34m)\u001b[0m\u001b[0;34m\u001b[0m\u001b[0;34m\u001b[0m\u001b[0m\n\u001b[0m\u001b[1;32m     44\u001b[0m     \u001b[0mrho_in\u001b[0m \u001b[0;34m=\u001b[0m \u001b[0mrho\u001b[0m\u001b[0;34m\u001b[0m\u001b[0;34m\u001b[0m\u001b[0m\n\u001b[1;32m     45\u001b[0m \u001b[0;34m\u001b[0m\u001b[0m\n",
      "\u001b[0;32m<ipython-input-2-80ac67c35cc9>\u001b[0m in \u001b[0;36mget_1_step\u001b[0;34m(rho, timestep)\u001b[0m\n\u001b[1;32m     20\u001b[0m         \u001b[0mdelta1\u001b[0m \u001b[0;34m=\u001b[0m \u001b[0mnp\u001b[0m\u001b[0;34m.\u001b[0m\u001b[0mrandom\u001b[0m\u001b[0;34m.\u001b[0m\u001b[0muniform\u001b[0m\u001b[0;34m(\u001b[0m\u001b[0;36m0\u001b[0m\u001b[0;34m,\u001b[0m\u001b[0momega12\u001b[0m\u001b[0;34m*\u001b[0m\u001b[0;36m0.15\u001b[0m\u001b[0;34m)\u001b[0m\u001b[0;34m\u001b[0m\u001b[0;34m\u001b[0m\u001b[0m\n\u001b[1;32m     21\u001b[0m         \u001b[0mdelta2\u001b[0m \u001b[0;34m=\u001b[0m \u001b[0mnp\u001b[0m\u001b[0;34m.\u001b[0m\u001b[0mrandom\u001b[0m\u001b[0;34m.\u001b[0m\u001b[0muniform\u001b[0m\u001b[0;34m(\u001b[0m\u001b[0;36m0\u001b[0m\u001b[0;34m,\u001b[0m\u001b[0momega12\u001b[0m\u001b[0;34m*\u001b[0m\u001b[0;36m0.15\u001b[0m\u001b[0;34m)\u001b[0m\u001b[0;34m\u001b[0m\u001b[0;34m\u001b[0m\u001b[0m\n\u001b[0;32m---> 22\u001b[0;31m         H=qt.Qobj(np.array([[0,-omega12,0],\n\u001b[0m\u001b[1;32m     23\u001b[0m                         \u001b[0;34m[\u001b[0m\u001b[0;34m-\u001b[0m\u001b[0momega12\u001b[0m\u001b[0;34m,\u001b[0m \u001b[0mdelta1\u001b[0m\u001b[0;34m,\u001b[0m \u001b[0;34m-\u001b[0m\u001b[0momega23\u001b[0m\u001b[0;34m]\u001b[0m\u001b[0;34m,\u001b[0m\u001b[0;34m\u001b[0m\u001b[0;34m\u001b[0m\u001b[0m\n\u001b[1;32m     24\u001b[0m                         [0, -omega23, delta2]]))\n",
      "\u001b[0;31mNameError\u001b[0m: name 'qt' is not defined"
     ]
    }
   ],
   "source": [
    "# Define the number of timesteps in the evolution\n",
    "steps=200\n",
    "# Define the number of randomly sampled unitaries to use at each timestep\n",
    "num_runs=100\n",
    "# generate the initial state\n",
    "rho=np.zeros(9)\n",
    "rho[0]=1\n",
    "rho_in = rho\n",
    "# Diagonal Initial State\n",
    "rho_in_diag = np.array([rho_in[0],rho_in[4],rho_in[8]])\n",
    "\n",
    "# Function that carries out one step of the evolution by randomly sampling the Hamiltonians for use \n",
    "# in the QuTiP solver\n",
    "def get_1_step(rho, timestep):\n",
    "    global omega12, omega23\n",
    "    tlist = [0,timestep]\n",
    "    rho_out = np.zeros((num_runs,3,3))\n",
    "    average_rho_out = np.zeros((3,3))\n",
    "    for i in range(num_runs):\n",
    "        delta1 = np.random.uniform(0,omega12*0.15)\n",
    "        delta2 = np.random.uniform(0,omega12*0.15)\n",
    "        H=qt.Qobj(np.array([[0,-omega12,0],\n",
    "                        [-omega12, delta1, -omega23],\n",
    "                        [0, -omega23, delta2]]))\n",
    "        \n",
    "        output = qt.mesolve(H, qt.Qobj(rho.reshape(3,3)), tlist)\n",
    "        \n",
    "        rho_out[i]=output.states[-1].full()\n",
    "    \n",
    "    average_rho_out = np.average(rho_out, axis=0)\n",
    "    rho_final = average_rho_out.flatten()\n",
    "    rho_diag = average_rho_out.diagonal().flatten()\n",
    "    return rho_final, rho_diag\n",
    "# for plotting\n",
    "full_obs_vec = np.zeros((steps,9))\n",
    "diag_obs_vec = np.zeros((steps,3))\n",
    "\n",
    "for step in range(steps):\n",
    "    omega12=10\n",
    "    omega23=10\n",
    "    full_obs_vec[step,:] = rho_in\n",
    "    diag_obs_vec[step,:] = rho_in_diag\n",
    "    rho, rho_in_diag = get_1_step(rho_in, 0.0025)\n",
    "    rho_in = rho\n",
    "    \n",
    "plt.plot(range(steps),full_obs_vec[:,0], label=0)\n",
    "plt.plot(range(steps),full_obs_vec[:,4], label = 1)\n",
    "plt.plot(range(steps),full_obs_vec[:,8], label=2)\n",
    "plt.legend()\n",
    "\n"
   ]
  },
  {
   "cell_type": "code",
   "execution_count": 76,
   "metadata": {},
   "outputs": [
    {
     "name": "stderr",
     "output_type": "stream",
     "text": [
      "/Users/jbrown/opt/anaconda3/envs/stablebase/lib/python3.6/site-packages/gym/logger.py:30: UserWarning: \u001b[33mWARN: Box bound precision lowered by casting to float32\u001b[0m\n",
      "  warnings.warn(colorize('%s: %s'%('WARN', msg % args), 'yellow'))\n"
     ]
    },
    {
     "name": "stdout",
     "output_type": "stream",
     "text": [
      "Loading a model without an environment, this model cannot be trained until it has a valid environment.\n",
      "Maximum final population: 0.5141529857636259  \n",
      "Max middle population: 0.7702950506850843\n"
     ]
    },
    {
     "data": {
      "image/png": "[encoded data removed]",
      "text/plain": [
       "<Figure size 360x504 with 3 Axes>"
      ]
     },
     "metadata": {
      "needs_background": "light"
     },
     "output_type": "display_data"
    }
   ],
   "source": [
    "ctapplot = CtapPlot()\n",
    "env = DiscreteEnv(num_levels=3, max_time=100, omega_max=75, discreteness=2, \n",
    "                  observation_verbosity = 4, timestep=0.0025, detuning=True, detuning_fixed=True,\n",
    "                 detuning_percent=0.15)\n",
    "\n",
    "\n",
    "\n",
    "\n",
    "best_model = DQN.load(\"/Users/jbrown/OneDrive - Queen's University Belfast/python_scripts/Saved_Models/DDQN/best_model\")\n",
    "ctapplot.discrete_plots(env=env, model=best_model, num_timesteps=100)\n",
    "\n"
   ]
  },
  {
   "cell_type": "code",
   "execution_count": null,
   "metadata": {},
   "outputs": [],
   "source": []
  }
 ],
 "metadata": {
  "kernelspec": {
   "display_name": "Python 3",
   "language": "python",
   "name": "python3"
  },
  "language_info": {
   "codemirror_mode": {
    "name": "ipython",
    "version": 3
   },
   "file_extension": ".py",
   "mimetype": "text/x-python",
   "name": "python",
   "nbconvert_exporter": "python",
   "pygments_lexer": "ipython3",
   "version": "3.6.10"
  },
  "latex_envs": {
   "LaTeX_envs_menu_present": true,
   "autoclose": true,
   "autocomplete": true,
   "bibliofile": "biblio.bib",
   "cite_by": "apalike",
   "current_citInitial": 1,
   "eqLabelWithNumbers": true,
   "eqNumInitial": 1,
   "hotkeys": {
    "equation": "Ctrl-E",
    "itemize": "Ctrl-I"
   },
   "labels_anchors": false,
   "latex_user_defs": false,
   "report_style_numbering": false,
   "user_envs_cfg": false
  }
 },
 "nbformat": 4,
 "nbformat_minor": 4
}
